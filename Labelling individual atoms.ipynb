{
 "cells": [
  {
   "cell_type": "code",
   "execution_count": 8,
   "id": "whole-banner",
   "metadata": {},
   "outputs": [],
   "source": [
    "%config Completer.use_jedi = False\n",
    "from rdkit import Chem\n",
    "from rdkit.Chem import AllChem\n",
    "from rdkit.Chem.Draw import IPythonConsole\n",
    "\n",
    "from ds_generation.label import assign_mol_label\n",
    "import numpy as np\n",
    "import pandas as pd"
   ]
  },
  {
   "cell_type": "code",
   "execution_count": 2,
   "id": "dirty-richards",
   "metadata": {},
   "outputs": [],
   "source": [
    "#Import examples\n",
    "mol = Chem.MolFromMolFile('/data/hookbill/hadfield/syntheticVS/data/DUDE_SRC_50ops_ac0025_t4_processed/actives/sdf/ligands/lig1.sdf')\n",
    "protein = Chem.MolFromMolFile('/data/hookbill/hadfield/syntheticVS/data/DUDE_SRC_50ops_ac0025_t4_processed/actives/sdf/pharmacophores/pharm1.sdf')"
   ]
  },
  {
   "cell_type": "code",
   "execution_count": 3,
   "id": "viral-abortion",
   "metadata": {},
   "outputs": [
    {
     "data": {
      "text/plain": [
       "[array([ 0.0613, -4.9189, -1.2088]), array([ 1.8475, -4.1312,  1.6027])]"
      ]
     },
     "execution_count": 3,
     "metadata": {},
     "output_type": "execute_result"
    }
   ],
   "source": [
    "assign_mol_label(mol, protein, threshold=4)"
   ]
  },
  {
   "cell_type": "code",
   "execution_count": 6,
   "id": "rental-outdoors",
   "metadata": {},
   "outputs": [],
   "source": [
    "def rdmol_to_dataframe(mol):\n",
    "    if mol is None or mol.GetNumHeavyAtoms() < 1:\n",
    "        return pd.DataFrame({\n",
    "            'x': [],\n",
    "            'y': [],\n",
    "            'z': [],\n",
    "            'type': []\n",
    "        })\n",
    "\n",
    "    conf = mol.GetConformer()\n",
    "    positions = np.array([np.array(conf.GetAtomPosition(i)) for\n",
    "                          i in range(mol.GetNumHeavyAtoms())])\n",
    "    atom_types = [mol.GetAtomWithIdx(i).GetAtomicNum() for\n",
    "                  i in range(mol.GetNumHeavyAtoms())]\n",
    "\n",
    "    if len(atom_types) == 1:\n",
    "        positions = positions.reshape((1, 3))\n",
    "\n",
    "    df = pd.DataFrame({\n",
    "        'x': positions[:, 0],\n",
    "        'y': positions[:, 1],\n",
    "        'z': positions[:, 2],\n",
    "        'type': atom_types\n",
    "    })\n",
    "    if isinstance(mol, Chem.RWMol):\n",
    "        df['type'] = df['type'].map({8: 0, 7: 1, 6: 2})\n",
    "    return df\n"
   ]
  },
  {
   "cell_type": "code",
   "execution_count": 13,
   "id": "sweet-record",
   "metadata": {},
   "outputs": [
    {
     "name": "stdout",
     "output_type": "stream",
     "text": [
      "\n",
      "     RDKit          3D\n",
      "\n",
      "  7  0  0  0  0  0  0  0  0  0999 V2000\n",
      "    2.4375    1.2930   18.8438 O   0  0  0  0  0  0  0  0  0  0  0  0\n",
      "    5.2663  -14.3242    0.6218 O   0  0  0  0  0  0  0  0  0  0  0  0\n",
      "    1.3018  -11.9533   -0.2721 N   0  0  0  0  0  0  0  0  0  0  0  0\n",
      "    0.6101  -14.1458   -7.2059 N   0  0  0  0  0  0  0  0  0  0  0  0\n",
      "    3.7134  -14.8579   -6.8942 O   0  0  0  0  0  0  0  0  0  0  0  0\n",
      "   -2.0869   -8.7732    9.3217 O   0  0  0  0  0  0  0  0  0  0  0  0\n",
      "    1.8475   -4.1312    1.6027 N   0  0  0  0  0  0  0  0  0  0  0  0\n",
      "M  END\n",
      "\n"
     ]
    }
   ],
   "source": [
    "print(Chem.MolToMolBlock(protein))"
   ]
  },
  {
   "cell_type": "code",
   "execution_count": 14,
   "id": "changed-regression",
   "metadata": {},
   "outputs": [],
   "source": [
    "def vector_distance(x, y):\n",
    "    diff = np.subtract(x,y)\n",
    "    return np.linalg.norm(diff)\n",
    "\n",
    "\n",
    "def create_gt_df(ligand, pharm, threshold):\n",
    "    \n",
    "    positive_coords = assign_mol_label(ligand, pharm, threshold = threshold)\n",
    "    \n",
    "    lig_df = rdmol_to_dataframe(ligand)\n",
    "    pharm_df = rdmol_to_dataframe(pharm)\n",
    "    \n",
    "    \n",
    "    lig_gt = [0]*lig_df.shape[0]\n",
    "    pharm_gt = [0]*pharm_df.shape[0]\n",
    "    \n",
    "    \n",
    "    for idx, row in lig_df.iterrows():\n",
    "        \n",
    "        for jdx, coord in enumerate(positive_coords):\n",
    "            \n",
    "            if vector_distance(np.array([row['x'], row['y'], row['z']]), coord) < 0.05:\n",
    "                lig_gt[idx] = 1\n",
    "                \n",
    "    for idx, row in pharm_df.iterrows():\n",
    "        \n",
    "        for jdx, coord in enumerate(positive_coords):\n",
    "            \n",
    "            if vector_distance(np.array([row['x'], row['y'], row['z']]), coord) < 0.05:\n",
    "                pharm_gt[idx] = 1\n",
    "                \n",
    "    lig_df['binding'] = lig_gt\n",
    "    pharm_df['binding'] = pharm_gt\n",
    "    \n",
    "    return lig_df, pharm_df\n",
    "    \n",
    "    \n",
    "    \n",
    "    \n",
    "    "
   ]
  },
  {
   "cell_type": "code",
   "execution_count": 15,
   "id": "vocal-maker",
   "metadata": {},
   "outputs": [],
   "source": [
    "test_lig, test_prot = create_gt_df(mol, protein, 4)"
   ]
  },
  {
   "cell_type": "code",
   "execution_count": 17,
   "id": "directed-saying",
   "metadata": {},
   "outputs": [
    {
     "data": {
      "text/html": [
       "<div>\n",
       "<style scoped>\n",
       "    .dataframe tbody tr th:only-of-type {\n",
       "        vertical-align: middle;\n",
       "    }\n",
       "\n",
       "    .dataframe tbody tr th {\n",
       "        vertical-align: top;\n",
       "    }\n",
       "\n",
       "    .dataframe thead th {\n",
       "        text-align: right;\n",
       "    }\n",
       "</style>\n",
       "<table border=\"1\" class=\"dataframe\">\n",
       "  <thead>\n",
       "    <tr style=\"text-align: right;\">\n",
       "      <th></th>\n",
       "      <th>x</th>\n",
       "      <th>y</th>\n",
       "      <th>z</th>\n",
       "      <th>type</th>\n",
       "      <th>binding</th>\n",
       "    </tr>\n",
       "  </thead>\n",
       "  <tbody>\n",
       "    <tr>\n",
       "      <th>0</th>\n",
       "      <td>2.4375</td>\n",
       "      <td>1.2930</td>\n",
       "      <td>18.8438</td>\n",
       "      <td>8</td>\n",
       "      <td>0</td>\n",
       "    </tr>\n",
       "    <tr>\n",
       "      <th>1</th>\n",
       "      <td>5.2663</td>\n",
       "      <td>-14.3242</td>\n",
       "      <td>0.6218</td>\n",
       "      <td>8</td>\n",
       "      <td>0</td>\n",
       "    </tr>\n",
       "    <tr>\n",
       "      <th>2</th>\n",
       "      <td>1.3018</td>\n",
       "      <td>-11.9533</td>\n",
       "      <td>-0.2721</td>\n",
       "      <td>7</td>\n",
       "      <td>0</td>\n",
       "    </tr>\n",
       "    <tr>\n",
       "      <th>3</th>\n",
       "      <td>0.6101</td>\n",
       "      <td>-14.1458</td>\n",
       "      <td>-7.2059</td>\n",
       "      <td>7</td>\n",
       "      <td>0</td>\n",
       "    </tr>\n",
       "    <tr>\n",
       "      <th>4</th>\n",
       "      <td>3.7134</td>\n",
       "      <td>-14.8579</td>\n",
       "      <td>-6.8942</td>\n",
       "      <td>8</td>\n",
       "      <td>0</td>\n",
       "    </tr>\n",
       "    <tr>\n",
       "      <th>5</th>\n",
       "      <td>-2.0869</td>\n",
       "      <td>-8.7732</td>\n",
       "      <td>9.3217</td>\n",
       "      <td>8</td>\n",
       "      <td>0</td>\n",
       "    </tr>\n",
       "    <tr>\n",
       "      <th>6</th>\n",
       "      <td>1.8475</td>\n",
       "      <td>-4.1312</td>\n",
       "      <td>1.6027</td>\n",
       "      <td>7</td>\n",
       "      <td>1</td>\n",
       "    </tr>\n",
       "  </tbody>\n",
       "</table>\n",
       "</div>"
      ],
      "text/plain": [
       "        x        y        z  type  binding\n",
       "0  2.4375   1.2930  18.8438     8        0\n",
       "1  5.2663 -14.3242   0.6218     8        0\n",
       "2  1.3018 -11.9533  -0.2721     7        0\n",
       "3  0.6101 -14.1458  -7.2059     7        0\n",
       "4  3.7134 -14.8579  -6.8942     8        0\n",
       "5 -2.0869  -8.7732   9.3217     8        0\n",
       "6  1.8475  -4.1312   1.6027     7        1"
      ]
     },
     "execution_count": 17,
     "metadata": {},
     "output_type": "execute_result"
    }
   ],
   "source": [
    "test_prot"
   ]
  },
  {
   "cell_type": "code",
   "execution_count": null,
   "id": "billion-nylon",
   "metadata": {},
   "outputs": [],
   "source": []
  }
 ],
 "metadata": {
  "kernelspec": {
   "display_name": "Python [conda env:anaconda3-DeLinker-env] *",
   "language": "python",
   "name": "conda-env-anaconda3-DeLinker-env-py"
  },
  "language_info": {
   "codemirror_mode": {
    "name": "ipython",
    "version": 3
   },
   "file_extension": ".py",
   "mimetype": "text/x-python",
   "name": "python",
   "nbconvert_exporter": "python",
   "pygments_lexer": "ipython3",
   "version": "3.6.7"
  }
 },
 "nbformat": 4,
 "nbformat_minor": 5
}
