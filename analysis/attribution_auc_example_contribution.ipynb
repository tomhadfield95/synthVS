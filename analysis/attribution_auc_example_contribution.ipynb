{
 "cells": [
  {
   "cell_type": "markdown",
   "id": "alpine-czech",
   "metadata": {},
   "source": [
    "# This notebook demonstrates how to compare the model assigned attributions to the ground truth attributions assigned via the Contribution deterministic binding rule\n",
    "\n",
    "You can incorporate the `avg_rank_above_threshold` and `get_high_rank_sum_stat` functions to analyse attributions generated using the `compute_attributions` script with the Contribution generative process"
   ]
  },
  {
   "cell_type": "code",
   "execution_count": 1,
   "id": "upper-remark",
   "metadata": {},
   "outputs": [],
   "source": [
    "%config Completer.use_jedi = False\n",
    "\n",
    "import pandas as pd\n",
    "import numpy as np\n",
    "import matplotlib.pyplot as plt\n",
    "import glob\n",
    "import math"
   ]
  },
  {
   "cell_type": "markdown",
   "id": "dangerous-shareware",
   "metadata": {},
   "source": [
    "For the contribution generative process, our primary interest is in assessing whether a virtual screening model can assign a high rank to the most important atoms. To quantify this, for a given threshold we compute the average model-assigned rank of all atoms with a ground-truth ligand score above the threshold."
   ]
  },
  {
   "cell_type": "code",
   "execution_count": 2,
   "id": "animated-moldova",
   "metadata": {},
   "outputs": [],
   "source": [
    "def avg_rank_above_threshold(threshold, df, sort_by_binding = False, random_ranking = False):\n",
    "    \n",
    "    if sort_by_binding:\n",
    "        df = df.sort_values('binding', ascending = False).reset_index(drop=True)\n",
    "    \n",
    "    if random_ranking:\n",
    "        df['random'] = np.random.uniform(size=df.shape[0])\n",
    "        df = df.sort_values('random', ascending = False).reset_index(drop=True)\n",
    "    \n",
    "    above_df = df.loc[df['binding'] > threshold]\n",
    "    \n",
    "    indices_above_threshold = list(above_df.index)\n",
    "    indices_above_threshold = [x + 1 for x in indices_above_threshold]\n",
    "    \n",
    "    if len(indices_above_threshold) == 0:\n",
    "        return -1\n",
    "    else:\n",
    "        return np.mean(indices_above_threshold)\n",
    "    \n",
    "    \n",
    "def get_high_rank_sum_stat(df_list, thresholds, sort_by_binding = False, random_ranking = False):\n",
    "    \n",
    "    all_thresholds = []\n",
    "    \n",
    "    for t in thresholds:\n",
    "        \n",
    "        df_ranks = []\n",
    "        \n",
    "        for df in df_list:\n",
    "            single_example = avg_rank_above_threshold(t, df, sort_by_binding, random_ranking)\n",
    "            if single_example != -1:\n",
    "                df_ranks.append(single_example)\n",
    "            \n",
    "        all_thresholds.append(np.mean(df_ranks))\n",
    "    \n",
    "    return all_thresholds\n",
    "\n",
    "\n"
   ]
  },
  {
   "cell_type": "markdown",
   "id": "special-spread",
   "metadata": {},
   "source": [
    "Computing the average rank of above-threshold atoms makes more sense when you have a larger number of examples to work with, so we'll load in a set of 500 attribution DataFrames"
   ]
  },
  {
   "cell_type": "code",
   "execution_count": 3,
   "id": "attached-whole",
   "metadata": {},
   "outputs": [
    {
     "name": "stdout",
     "output_type": "stream",
     "text": [
      "500\n"
     ]
    }
   ],
   "source": [
    "dfs_fnames = glob.glob('../data/contribution_attributions/df*.csv')\n",
    "dfs = [pd.read_csv(x, sep = ' ') for x in dfs_fnames]\n",
    "print(len(dfs_fnames))"
   ]
  },
  {
   "cell_type": "code",
   "execution_count": 4,
   "id": "electric-partition",
   "metadata": {},
   "outputs": [
    {
     "data": {
      "text/html": [
       "<div>\n",
       "<style scoped>\n",
       "    .dataframe tbody tr th:only-of-type {\n",
       "        vertical-align: middle;\n",
       "    }\n",
       "\n",
       "    .dataframe tbody tr th {\n",
       "        vertical-align: top;\n",
       "    }\n",
       "\n",
       "    .dataframe thead th {\n",
       "        text-align: right;\n",
       "    }\n",
       "</style>\n",
       "<table border=\"1\" class=\"dataframe\">\n",
       "  <thead>\n",
       "    <tr style=\"text-align: right;\">\n",
       "      <th></th>\n",
       "      <th>atom_idx</th>\n",
       "      <th>x</th>\n",
       "      <th>y</th>\n",
       "      <th>z</th>\n",
       "      <th>attribution</th>\n",
       "      <th>binding</th>\n",
       "    </tr>\n",
       "  </thead>\n",
       "  <tbody>\n",
       "    <tr>\n",
       "      <th>0</th>\n",
       "      <td>0</td>\n",
       "      <td>-1.4403</td>\n",
       "      <td>-2.5451</td>\n",
       "      <td>-1.3388</td>\n",
       "      <td>0.413901</td>\n",
       "      <td>2.628034</td>\n",
       "    </tr>\n",
       "    <tr>\n",
       "      <th>1</th>\n",
       "      <td>1</td>\n",
       "      <td>-1.1892</td>\n",
       "      <td>-1.5401</td>\n",
       "      <td>-0.4217</td>\n",
       "      <td>0.254604</td>\n",
       "      <td>0.000000</td>\n",
       "    </tr>\n",
       "    <tr>\n",
       "      <th>2</th>\n",
       "      <td>3</td>\n",
       "      <td>0.4870</td>\n",
       "      <td>-0.1775</td>\n",
       "      <td>0.3962</td>\n",
       "      <td>0.020507</td>\n",
       "      <td>0.000000</td>\n",
       "    </tr>\n",
       "    <tr>\n",
       "      <th>3</th>\n",
       "      <td>12</td>\n",
       "      <td>-1.8056</td>\n",
       "      <td>0.6202</td>\n",
       "      <td>0.4806</td>\n",
       "      <td>0.020507</td>\n",
       "      <td>0.000000</td>\n",
       "    </tr>\n",
       "    <tr>\n",
       "      <th>4</th>\n",
       "      <td>4</td>\n",
       "      <td>1.9122</td>\n",
       "      <td>0.2332</td>\n",
       "      <td>0.1741</td>\n",
       "      <td>0.013870</td>\n",
       "      <td>0.000000</td>\n",
       "    </tr>\n",
       "    <tr>\n",
       "      <th>5</th>\n",
       "      <td>14</td>\n",
       "      <td>-2.0947</td>\n",
       "      <td>-0.3379</td>\n",
       "      <td>-0.6660</td>\n",
       "      <td>0.007625</td>\n",
       "      <td>0.000000</td>\n",
       "    </tr>\n",
       "    <tr>\n",
       "      <th>6</th>\n",
       "      <td>10</td>\n",
       "      <td>-0.3802</td>\n",
       "      <td>1.0741</td>\n",
       "      <td>0.3143</td>\n",
       "      <td>0.006870</td>\n",
       "      <td>0.000000</td>\n",
       "    </tr>\n",
       "    <tr>\n",
       "      <th>7</th>\n",
       "      <td>5</td>\n",
       "      <td>2.7575</td>\n",
       "      <td>-0.8180</td>\n",
       "      <td>-0.1302</td>\n",
       "      <td>0.000000</td>\n",
       "      <td>0.266469</td>\n",
       "    </tr>\n",
       "    <tr>\n",
       "      <th>8</th>\n",
       "      <td>6</td>\n",
       "      <td>4.3762</td>\n",
       "      <td>-0.2904</td>\n",
       "      <td>0.1058</td>\n",
       "      <td>0.000000</td>\n",
       "      <td>0.000000</td>\n",
       "    </tr>\n",
       "    <tr>\n",
       "      <th>9</th>\n",
       "      <td>7</td>\n",
       "      <td>4.5882</td>\n",
       "      <td>1.0573</td>\n",
       "      <td>-0.5997</td>\n",
       "      <td>0.000000</td>\n",
       "      <td>0.487414</td>\n",
       "    </tr>\n",
       "    <tr>\n",
       "      <th>10</th>\n",
       "      <td>8</td>\n",
       "      <td>4.6540</td>\n",
       "      <td>-0.1345</td>\n",
       "      <td>1.6085</td>\n",
       "      <td>0.000000</td>\n",
       "      <td>0.252135</td>\n",
       "    </tr>\n",
       "    <tr>\n",
       "      <th>11</th>\n",
       "      <td>9</td>\n",
       "      <td>5.3412</td>\n",
       "      <td>-1.3305</td>\n",
       "      <td>-0.4831</td>\n",
       "      <td>0.000000</td>\n",
       "      <td>0.090332</td>\n",
       "    </tr>\n",
       "    <tr>\n",
       "      <th>12</th>\n",
       "      <td>11</td>\n",
       "      <td>0.0160</td>\n",
       "      <td>1.9588</td>\n",
       "      <td>1.2998</td>\n",
       "      <td>0.000000</td>\n",
       "      <td>1.668288</td>\n",
       "    </tr>\n",
       "    <tr>\n",
       "      <th>13</th>\n",
       "      <td>15</td>\n",
       "      <td>-3.4237</td>\n",
       "      <td>-0.7203</td>\n",
       "      <td>-0.7044</td>\n",
       "      <td>-0.000314</td>\n",
       "      <td>1.338088</td>\n",
       "    </tr>\n",
       "    <tr>\n",
       "      <th>14</th>\n",
       "      <td>13</td>\n",
       "      <td>-2.7151</td>\n",
       "      <td>1.6563</td>\n",
       "      <td>0.5504</td>\n",
       "      <td>-0.005835</td>\n",
       "      <td>1.345478</td>\n",
       "    </tr>\n",
       "    <tr>\n",
       "      <th>15</th>\n",
       "      <td>2</td>\n",
       "      <td>0.1173</td>\n",
       "      <td>-1.1082</td>\n",
       "      <td>-0.5565</td>\n",
       "      <td>-0.151107</td>\n",
       "      <td>0.248848</td>\n",
       "    </tr>\n",
       "  </tbody>\n",
       "</table>\n",
       "</div>"
      ],
      "text/plain": [
       "    atom_idx       x       y       z  attribution   binding\n",
       "0          0 -1.4403 -2.5451 -1.3388     0.413901  2.628034\n",
       "1          1 -1.1892 -1.5401 -0.4217     0.254604  0.000000\n",
       "2          3  0.4870 -0.1775  0.3962     0.020507  0.000000\n",
       "3         12 -1.8056  0.6202  0.4806     0.020507  0.000000\n",
       "4          4  1.9122  0.2332  0.1741     0.013870  0.000000\n",
       "5         14 -2.0947 -0.3379 -0.6660     0.007625  0.000000\n",
       "6         10 -0.3802  1.0741  0.3143     0.006870  0.000000\n",
       "7          5  2.7575 -0.8180 -0.1302     0.000000  0.266469\n",
       "8          6  4.3762 -0.2904  0.1058     0.000000  0.000000\n",
       "9          7  4.5882  1.0573 -0.5997     0.000000  0.487414\n",
       "10         8  4.6540 -0.1345  1.6085     0.000000  0.252135\n",
       "11         9  5.3412 -1.3305 -0.4831     0.000000  0.090332\n",
       "12        11  0.0160  1.9588  1.2998     0.000000  1.668288\n",
       "13        15 -3.4237 -0.7203 -0.7044    -0.000314  1.338088\n",
       "14        13 -2.7151  1.6563  0.5504    -0.005835  1.345478\n",
       "15         2  0.1173 -1.1082 -0.5565    -0.151107  0.248848"
      ]
     },
     "execution_count": 4,
     "metadata": {},
     "output_type": "execute_result"
    }
   ],
   "source": [
    "dfs[0] "
   ]
  },
  {
   "cell_type": "markdown",
   "id": "specific-blast",
   "metadata": {},
   "source": [
    "Above we see an example attribution dataframe. We have the index and 3D position of each atom; `attribution` describes the model attribution, whilst `binding` denotes the ground truth atom contribution. Note that we do not expect these values to be similar in terms of absolute value, as the model attributions are constrained to be in between -1 and 1, whereas the ground truth contributions are always positive. Rather, we are interested in the atomic rankings given by the two measures."
   ]
  },
  {
   "cell_type": "code",
   "execution_count": 5,
   "id": "satisfied-healthcare",
   "metadata": {},
   "outputs": [],
   "source": [
    "avg_rank_model = get_high_rank_sum_stat(dfs, np.arange(0.5, 3, 0.05))\n"
   ]
  },
  {
   "cell_type": "markdown",
   "id": "disciplinary-blind",
   "metadata": {},
   "source": [
    "Use random ranking and perfect ranking as baselines"
   ]
  },
  {
   "cell_type": "code",
   "execution_count": 6,
   "id": "southeast-bouquet",
   "metadata": {},
   "outputs": [],
   "source": [
    "avg_rank_best = get_high_rank_sum_stat(dfs, np.arange(0.5, 3, 0.05), sort_by_binding=True)\n",
    "avg_rank_random = get_high_rank_sum_stat(dfs, np.arange(0.5, 3, 0.05), random_ranking=True)\n"
   ]
  },
  {
   "cell_type": "code",
   "execution_count": 7,
   "id": "mature-killing",
   "metadata": {},
   "outputs": [
    {
     "data": {
      "image/png": "[encoded data removed]",
      "text/plain": [
       "<Figure size 432x288 with 1 Axes>"
      ]
     },
     "metadata": {
      "needs_background": "light"
     },
     "output_type": "display_data"
    }
   ],
   "source": [
    "plt.plot(np.arange(0.5, 3, 0.05), avg_rank_model, label = 'Model')\n",
    "plt.plot(np.arange(0.5, 3, 0.05), avg_rank_best, label = 'Pefect')\n",
    "plt.plot(np.arange(0.5, 3, 0.05), avg_rank_random, label = 'Random')\n",
    "\n",
    "plt.legend()\n",
    "plt.show()"
   ]
  },
  {
   "cell_type": "markdown",
   "id": "median-guatemala",
   "metadata": {},
   "source": [
    "We can see that the average rank assigned to high scoring atoms by the model is considerably worse than the perfect ranking as the average ranks are much higher. The model also clearly outperforms the random baseline."
   ]
  },
  {
   "cell_type": "code",
   "execution_count": null,
   "id": "attractive-external",
   "metadata": {},
   "outputs": [],
   "source": []
  }
 ],
 "metadata": {
  "kernelspec": {
   "display_name": "Python [conda env:DeLinker-env] *",
   "language": "python",
   "name": "conda-env-DeLinker-env-py"
  },
  "language_info": {
   "codemirror_mode": {
    "name": "ipython",
    "version": 3
   },
   "file_extension": ".py",
   "mimetype": "text/x-python",
   "name": "python",
   "nbconvert_exporter": "python",
   "pygments_lexer": "ipython3",
   "version": "3.6.7"
  }
 },
 "nbformat": 4,
 "nbformat_minor": 5
}
