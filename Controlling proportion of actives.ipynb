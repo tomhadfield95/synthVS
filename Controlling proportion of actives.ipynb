{
 "cells": [
  {
   "cell_type": "code",
   "execution_count": 1,
   "id": "friendly-directory",
   "metadata": {},
   "outputs": [],
   "source": [
    "%config Completer.use_jedi = False\n",
    "import numpy as np\n",
    "import pandas as pd"
   ]
  },
  {
   "cell_type": "code",
   "execution_count": 4,
   "id": "laden-standard",
   "metadata": {},
   "outputs": [],
   "source": [
    "features = np.load('/data/hookbill/hadfield/syntheticVS/data/zinc_50ops_ac0025_t4_processed/features_plec_45.npy', allow_pickle=True)\n",
    "labels = np.load('/data/hookbill/hadfield/syntheticVS/data/zinc_50ops_ac0025_t4_processed/labels_plec_45.npy', allow_pickle=True)\n",
    "\n"
   ]
  },
  {
   "cell_type": "code",
   "execution_count": 7,
   "id": "confirmed-narrative",
   "metadata": {},
   "outputs": [
    {
     "name": "stdout",
     "output_type": "stream",
     "text": [
      "10000 10000\n",
      "5018\n"
     ]
    }
   ],
   "source": [
    "print(features.shape[0], labels.shape[0])\n",
    "print(sum(labels))"
   ]
  },
  {
   "cell_type": "code",
   "execution_count": 26,
   "id": "healthy-insured",
   "metadata": {},
   "outputs": [],
   "source": [
    "def control_prop_actives(features, labels, additional_features = None, prop_actives = None):\n",
    "    \n",
    "    #additional_features is included in case we have to do the same subsetting with \n",
    "    #a different type of feature set - e.g. a Morgan Fingerprint.\n",
    "    \n",
    "    if prop_actives is None:\n",
    "        return features, labels #i.e. don't change the proportion at all\n",
    "    elif prop_actives < 0 or prop_actives > 1:\n",
    "            raise ValueError('Please provide a proportion between 0 and 1.')\n",
    "    else:\n",
    "        \n",
    "        initial_num_actives = sum(labels == 1)\n",
    "        initial_num_inactives = sum(labels == 0)\n",
    "        \n",
    "        if additional_features is None:\n",
    "            df = pd.DataFrame({'labels':labels, 'features':[x for x in features]})\n",
    "        else:\n",
    "            df = pd.DataFrame({'labels':labels, 'features':[x for x in features], 'add_features':[x for x in additional_features]})\n",
    "            \n",
    "            \n",
    "        df_inactives = df.loc[df['labels'] == 0]\n",
    "        df_actives = df.loc[df['labels'] == 1]\n",
    "\n",
    "        if initial_num_actives*(1/prop_actives - 1) < initial_num_inactives:\n",
    "            #We can use all the existing actives and just subset the inactives\n",
    "            num_to_sample = initial_num_actives * (1/prop_actives - 1)\n",
    "            df_inactives_subset = df_inactives.sample(n = int(np.floor(num_to_sample)), random_state = 100)\n",
    "            df_combined_subset = df_actives.append(df_inactives_subset)\n",
    "        \n",
    "        else:\n",
    "            num_to_sample = initial_num_inactives*(prop_actives/(1 - prop_actives))\n",
    "            df_actives_subset = df_actives.sample(n = int(np.floor(num_to_sample)), random_state = 100)\n",
    "            df_combined_subset = df_inactives.append(df_actives_subset)\n",
    "            \n",
    "            \n",
    "        #shuffle order\n",
    "        df_combined_subset = df_combined_subset.sample(frac=1)\n",
    "        subset_labels = np.array(df_combined_subset['labels'])\n",
    "        subset_features = np.array(list(df_combined_subset['features']))\n",
    "        subset_additional_features = np.array(list(df_combined_subset['add_features']))\n",
    "       \n",
    "    \n",
    "        if additional_features is None:\n",
    "            return subset_features, subset_labels\n",
    "        else:\n",
    "            return subset_features, subset_labels, additional_features\n",
    "            \n",
    "        \n",
    "        \n",
    "    \n",
    "    \n",
    "    \n",
    "            "
   ]
  },
  {
   "cell_type": "code",
   "execution_count": 31,
   "id": "muslim-reader",
   "metadata": {},
   "outputs": [],
   "source": [
    "sf, sl = control_prop_actives(features, labels, prop_actives=0.69)"
   ]
  },
  {
   "cell_type": "code",
   "execution_count": 32,
   "id": "fallen-brooklyn",
   "metadata": {},
   "outputs": [
    {
     "data": {
      "text/plain": [
       "0.69004400440044"
      ]
     },
     "execution_count": 32,
     "metadata": {},
     "output_type": "execute_result"
    }
   ],
   "source": [
    "sum(sl)/sl.shape[0]"
   ]
  },
  {
   "cell_type": "code",
   "execution_count": 9,
   "id": "convenient-nylon",
   "metadata": {},
   "outputs": [
    {
     "data": {
      "text/plain": [
       "5018"
      ]
     },
     "execution_count": 9,
     "metadata": {},
     "output_type": "execute_result"
    }
   ],
   "source": [
    "sum(labels == 1)"
   ]
  },
  {
   "cell_type": "code",
   "execution_count": 13,
   "id": "deadly-biotechnology",
   "metadata": {},
   "outputs": [
    {
     "data": {
      "text/html": [
       "<div>\n",
       "<style scoped>\n",
       "    .dataframe tbody tr th:only-of-type {\n",
       "        vertical-align: middle;\n",
       "    }\n",
       "\n",
       "    .dataframe tbody tr th {\n",
       "        vertical-align: top;\n",
       "    }\n",
       "\n",
       "    .dataframe thead th {\n",
       "        text-align: right;\n",
       "    }\n",
       "</style>\n",
       "<table border=\"1\" class=\"dataframe\">\n",
       "  <thead>\n",
       "    <tr style=\"text-align: right;\">\n",
       "      <th></th>\n",
       "      <th>labels</th>\n",
       "      <th>features</th>\n",
       "    </tr>\n",
       "  </thead>\n",
       "  <tbody>\n",
       "    <tr>\n",
       "      <th>3981</th>\n",
       "      <td>0</td>\n",
       "      <td>[0, 2, 0, 0, 0, 0, 0, 0, 0, 0, 0, 0, 0, 0, 0, ...</td>\n",
       "    </tr>\n",
       "    <tr>\n",
       "      <th>6628</th>\n",
       "      <td>0</td>\n",
       "      <td>[0, 0, 0, 0, 0, 2, 0, 0, 0, 0, 0, 0, 0, 0, 0, ...</td>\n",
       "    </tr>\n",
       "    <tr>\n",
       "      <th>8415</th>\n",
       "      <td>0</td>\n",
       "      <td>[0, 0, 0, 0, 0, 0, 0, 0, 0, 0, 0, 0, 0, 0, 0, ...</td>\n",
       "    </tr>\n",
       "    <tr>\n",
       "      <th>5804</th>\n",
       "      <td>0</td>\n",
       "      <td>[0, 0, 0, 0, 0, 0, 0, 0, 0, 0, 0, 0, 0, 0, 0, ...</td>\n",
       "    </tr>\n",
       "    <tr>\n",
       "      <th>1524</th>\n",
       "      <td>0</td>\n",
       "      <td>[0, 0, 0, 0, 0, 0, 0, 0, 0, 0, 0, 0, 0, 0, 0, ...</td>\n",
       "    </tr>\n",
       "    <tr>\n",
       "      <th>4481</th>\n",
       "      <td>0</td>\n",
       "      <td>[0, 0, 0, 0, 0, 0, 0, 0, 0, 0, 0, 0, 0, 0, 0, ...</td>\n",
       "    </tr>\n",
       "    <tr>\n",
       "      <th>7819</th>\n",
       "      <td>0</td>\n",
       "      <td>[0, 0, 0, 0, 0, 0, 0, 0, 0, 0, 0, 0, 0, 0, 0, ...</td>\n",
       "    </tr>\n",
       "    <tr>\n",
       "      <th>2850</th>\n",
       "      <td>0</td>\n",
       "      <td>[0, 0, 0, 0, 0, 0, 0, 0, 0, 0, 0, 0, 0, 0, 0, ...</td>\n",
       "    </tr>\n",
       "    <tr>\n",
       "      <th>2490</th>\n",
       "      <td>0</td>\n",
       "      <td>[0, 0, 0, 0, 0, 0, 0, 0, 0, 0, 0, 0, 0, 0, 0, ...</td>\n",
       "    </tr>\n",
       "    <tr>\n",
       "      <th>8010</th>\n",
       "      <td>0</td>\n",
       "      <td>[0, 0, 0, 0, 0, 0, 0, 0, 0, 1, 0, 0, 0, 0, 0, ...</td>\n",
       "    </tr>\n",
       "  </tbody>\n",
       "</table>\n",
       "</div>"
      ],
      "text/plain": [
       "      labels                                           features\n",
       "3981       0  [0, 2, 0, 0, 0, 0, 0, 0, 0, 0, 0, 0, 0, 0, 0, ...\n",
       "6628       0  [0, 0, 0, 0, 0, 2, 0, 0, 0, 0, 0, 0, 0, 0, 0, ...\n",
       "8415       0  [0, 0, 0, 0, 0, 0, 0, 0, 0, 0, 0, 0, 0, 0, 0, ...\n",
       "5804       0  [0, 0, 0, 0, 0, 0, 0, 0, 0, 0, 0, 0, 0, 0, 0, ...\n",
       "1524       0  [0, 0, 0, 0, 0, 0, 0, 0, 0, 0, 0, 0, 0, 0, 0, ...\n",
       "4481       0  [0, 0, 0, 0, 0, 0, 0, 0, 0, 0, 0, 0, 0, 0, 0, ...\n",
       "7819       0  [0, 0, 0, 0, 0, 0, 0, 0, 0, 0, 0, 0, 0, 0, 0, ...\n",
       "2850       0  [0, 0, 0, 0, 0, 0, 0, 0, 0, 0, 0, 0, 0, 0, 0, ...\n",
       "2490       0  [0, 0, 0, 0, 0, 0, 0, 0, 0, 0, 0, 0, 0, 0, 0, ...\n",
       "8010       0  [0, 0, 0, 0, 0, 0, 0, 0, 0, 1, 0, 0, 0, 0, 0, ..."
      ]
     },
     "execution_count": 13,
     "metadata": {},
     "output_type": "execute_result"
    }
   ],
   "source": [
    "df = pd.DataFrame({'labels':labels, 'features':[x for x in features]})\n",
    "df_inactives = df.loc[df['labels'] == 0]\n",
    "df_inactives.sample(n = 10)"
   ]
  },
  {
   "cell_type": "code",
   "execution_count": 17,
   "id": "noticed-library",
   "metadata": {},
   "outputs": [
    {
     "data": {
      "text/plain": [
       "(10000, 1024)"
      ]
     },
     "execution_count": 17,
     "metadata": {},
     "output_type": "execute_result"
    }
   ],
   "source": [
    "np.array(list(df['features'])).shape"
   ]
  },
  {
   "cell_type": "code",
   "execution_count": 19,
   "id": "dominican-accountability",
   "metadata": {},
   "outputs": [
    {
     "data": {
      "text/plain": [
       "(10000, 1024)"
      ]
     },
     "execution_count": 19,
     "metadata": {},
     "output_type": "execute_result"
    }
   ],
   "source": [
    "features.shape"
   ]
  },
  {
   "cell_type": "code",
   "execution_count": null,
   "id": "efficient-region",
   "metadata": {},
   "outputs": [],
   "source": []
  }
 ],
 "metadata": {
  "kernelspec": {
   "display_name": "Python [conda env:DeLinker-env] *",
   "language": "python",
   "name": "conda-env-DeLinker-env-py"
  },
  "language_info": {
   "codemirror_mode": {
    "name": "ipython",
    "version": 3
   },
   "file_extension": ".py",
   "mimetype": "text/x-python",
   "name": "python",
   "nbconvert_exporter": "python",
   "pygments_lexer": "ipython3",
   "version": "3.6.7"
  }
 },
 "nbformat": 4,
 "nbformat_minor": 5
}
